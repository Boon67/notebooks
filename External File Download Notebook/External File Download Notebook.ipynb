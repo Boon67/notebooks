{
 "metadata": {
  "kernelspec": {
   "display_name": "Streamlit Notebook",
   "name": "streamlit"
  },
  "lastEditStatus": {
   "notebookId": "bjwhnfld3z4k4a3hpygt",
   "authorId": "5574880875019",
   "authorName": "TBOON",
   "authorEmail": "terry.boon@snowflake.com",
   "sessionId": "417361a3-6174-440e-82e1-16d297867315",
   "lastEditTime": 1750705425320
  }
 },
 "nbformat_minor": 5,
 "nbformat": 4,
 "cells": [
  {
   "cell_type": "markdown",
   "id": "864fa94c-7bfb-4d41-9e72-d2b3173dd6a9",
   "metadata": {
    "name": "cell7",
    "collapsed": false
   },
   "source": "# External file download to Stage\nThis leverages python libraries to download files from external public URLs to a stage. The intent of this is a demonstration asset to show the entire setup/configuration end to end.\n\n##### Step 1: \nCreate an Internal Stage/Target to Download \\\nAlso create a table to collect Telemetry Data"
  },
  {
   "cell_type": "code",
   "id": "5b8813ad-22c7-43f9-9ea6-610a0634e853",
   "metadata": {
    "language": "sql",
    "name": "TelemetryTable"
   },
   "outputs": [],
   "source": "USE ROLE ACCOUNTADMIN;\nCREATE EVENT TABLE IF NOT EXISTS event_table;",
   "execution_count": null
  },
  {
   "cell_type": "code",
   "id": "0ccb5b32-4585-4585-b1ca-bc2f78f0632d",
   "metadata": {
    "language": "sql",
    "name": "StageSetup"
   },
   "outputs": [],
   "source": "USE ROLE SYSADMIN;\nCREATE STAGE IF NOT EXISTS SHP_FILES COMMENT = 'General purpose stage for data loading';",
   "execution_count": null
  },
  {
   "cell_type": "markdown",
   "id": "e8ff96da-6d3d-4c9d-8480-8bad7450ed39",
   "metadata": {
    "name": "cell5",
    "collapsed": false
   },
   "source": "## External Network Rules/Access Setup\n\n##### Step 2:\nFor this we need to setup the values list of network rules of URLs/Hosts and also activate that integration\n\n"
  },
  {
   "cell_type": "code",
   "id": "bd20a089-0b32-46e6-972e-487f9bd39a6b",
   "metadata": {
    "language": "sql",
    "name": "NetworkEgressSetup"
   },
   "outputs": [],
   "source": "USE ROLE ACCOUNTADMIN;\nCREATE OR REPLACE NETWORK RULE FEMA_NETWORK_RULE\nMODE = EGRESS\nTYPE = HOST_PORT\nVALUE_LIST = (  \n  '*.FEMA.GOV',);\n\nCREATE OR REPLACE EXTERNAL ACCESS INTEGRATION FEMA_INTEGRATION\nALLOWED_NETWORK_RULES = (FEMA_NETWORK_RULE)\nENABLED=TRUE;\n\nGRANT USAGE ON INTEGRATION FEMA_INTEGRATION TO ROLE SYSADMIN;\n\nSHOW INTEGRATIONS;\n--Note, need to enable the external integration for the notebook",
   "execution_count": null
  },
  {
   "cell_type": "markdown",
   "id": "4b265109-fec8-4ca7-bd0a-0deb4a0c30c0",
   "metadata": {
    "name": "cell1",
    "collapsed": false
   },
   "source": "## Download from URL\n##### Step 3:\nDownload the file. This logic can be adjusted for your specific use case integration. This also could be executed as a task/job"
  },
  {
   "cell_type": "code",
   "id": "5d40cf40-3926-417d-97dc-4edce756f9a8",
   "metadata": {
    "language": "python",
    "name": "Headless_Download"
   },
   "outputs": [],
   "source": "import requests\nimport os, sys, datetime\nimport tempfile\nimport logging\nfrom snowflake.snowpark.exceptions import SnowparkClientException\nsession = get_active_session()\ncurrent_timestamp = datetime.datetime.now().strftime(\"%Y%m%d_%H%M%S\")\nlogging.getLogger('external_url_download')\nlogger = logging.getLogger('snowflake.snowpark.session')\nlogger.setLevel(logging.DEBUG)\n###### Global Variables ###### \nfile_url = \"https://msc.fema.gov/portal/downloadProduct?productID=NFHL_48201C\" # Replace with the actual URL\ntarget_stage = \"@SHP_FILES\" # Replace with your Snowflake stage name\ntarget_file_name = f\"fema_temp_file{current_timestamp}.zip\" # Desired name for the file on the stage\n\n\n\n\n\ndef list_stage_files():\n    \"\"\"Helper function to list files in stage\"\"\"\n    files = session.sql(\"LIST @SHP_FILES\").collect()\n    if len(files) > 0:\n        print(\"Files currently in stage:\")\n        for file in files:\n            print(file['name'])\n    else:\n        print(\"No files in stage\")\n\n\n\nlogger.info('Starting Download of File')\nprint('Starting Download of External URL/File')\n\n# --- Configuration ---\n\n# Use a temporary directory provided by the Snowflake environment\n# For Snowpark, /tmp is generally safe for temporary files\ntemp_dir = tempfile.gettempdir()\nlocal_temp_file_path = os.path.join(temp_dir, target_file_name)\n\n\ntry:\n    # 1. Download the file content to a temporary local file\n    logger.info(f\"Attempting to download file from: {file_url} to {local_temp_file_path}\")\n    print(f\"Attempting to download file from: {file_url} to {local_temp_file_path}\")\n    with requests.get(file_url, stream=True) as r:\n        r.raise_for_status() # Raise an exception for HTTP errors\n        with open(local_temp_file_path, 'wb') as f:\n            for chunk in r.iter_content(chunk_size=8192):\n                f.write(chunk)\n    logger.info(f\"Successfully downloaded file to: {local_temp_file_path}\")\n    print(f\"Successfully downloaded file to: {local_temp_file_path}\")\n    # 2. Upload the temporary local file to the Snowflake stage\n    # session.file.put(local_file_name, stage_location, auto_compress, overwrite)\n    put_result = session.file.put(\n        local_temp_file_path,\n        f\"{target_stage}/{target_file_name}\",\n        auto_compress=False,\n        overwrite=True\n    )\n\n    logger.info(f\"File uploaded to stage: {target_stage}/{target_file_name}\")\n    print(f\"File uploaded to stage: {target_stage}/{target_file_name}\")\n    logger.info(\"Upload result:\")\n    for res in put_result:\n        logger.info(f\"  Source: {res.source}, Target: {res.target}, Status: {res.status}, Message: {res.message}\")\n        #print(f\"Source: {res.source}, Target: {res.target}, Status: {res.status}, Message: {res.message}\")\n        list_stage_files()\n    # Optional: Clean up the temporary local file\n    os.remove(local_temp_file_path)\n    logger.info(f\"Cleaned up temporary file: {local_temp_file_path}\")\n\nexcept requests.exceptions.RequestException as e:\n    logger.error(f\"Error during file download: {e}\")\n    print(f\"Error during file download: {e}\")\nexcept SnowparkClientException as e:\n    logger.error(f\"Error during file upload to Snowflake stage: {e}\")\n    print(f\"Error during file upload to Snowflake stage: {e}\")\nexcept Exception as e:\n    logger.error(f\"An unexpected error occurred: {e}\")\n    print(f\"An unexpected error occurred: {e}\")\nfinally:\n    # Ensure temporary file is removed even if errors occur\n    if os.path.exists(local_temp_file_path):\n        os.remove( )\n        logger.info(f\"Ensured cleanup of temporary file: {local_temp_file_path}\")\n        list_stage_files()",
   "execution_count": null
  },
  {
   "cell_type": "code",
   "id": "046df349-2db2-4391-bccf-18ffb1cbc87d",
   "metadata": {
    "language": "python",
    "name": "InteractiveVersion",
    "codeCollapsed": false
   },
   "outputs": [],
   "source": "import streamlit as st\nfrom snowflake.snowpark.context import get_active_session\nfrom urllib.parse import urlparse, quote\nimport os\nimport uuid\nfrom datetime import datetime\nimport pandas as pd\n\n# Get the active Snowflake session\nsession = get_active_session()\n\n# Set page title and add some spacing\nst.title(\"🗂️ File Management System\")\nst.markdown(\"---\")\n\n# Download New File Section\nst.markdown(\"### 📥 Download New File\")\nwith st.form(\"download_form\"):\n    file_url = st.text_input(\n        \"Enter the URL of the file to download\",\n        value=\"https://msc.fema.gov/portal/downloadProduct?productID=NFHL_48201C\",\n        placeholder=\"Enter URL here...\"\n    )\n    submit_button = st.form_submit_button(\"Download and Stage File\", type=\"primary\")\n    \n    if submit_button and file_url:\n        with st.spinner(\"Downloading file...\"):\n            try:\n                timestamp = datetime.now().strftime(\"%Y%m%d_%H%M%S\")\n                original_filename = os.path.basename(urlparse(file_url).path)\n                \n                if not original_filename:\n                    random_uuid = str(uuid.uuid4())[:8]\n                    filename = f\"file_{random_uuid}_{timestamp}.zip\"\n                else:\n                    name, ext = os.path.splitext(original_filename)\n                    random_uuid = str(uuid.uuid4())[:8]\n                    filename = f\"{name}_{random_uuid}_{timestamp}{ext}\"\n                \n                encoded_url = quote(file_url, safe=':/?=&')\n                downloader = SnowflakeFileDownloader(\n                    session=session,\n                    source_url=file_url,\n                    target_stage=\"@SHP_FILES\",\n                    target_filename=filename\n                )\n                if downloader.download_to_stage():\n                    st.success(\"✅ File downloaded successfully\")\n                    st.rerun()\n                    \n            except Exception as e:\n                st.error(f\"❌ Error processing file: {str(e)}\")\n\n# Files in Stage Section\nst.markdown(\"---\")\nst.markdown(\"### 📁 Files in Stage\")\n\n# Get stage files with metadata\nstage_files = session.sql(\"\"\"\n    LIST @SHP_FILES\n\"\"\").collect()\n\nif len(stage_files) > 0:\n    # Convert to pandas DataFrame for better display\n    df = pd.DataFrame(stage_files)\n    \n    # Format size to human-readable format\n    def format_size(size):\n        for unit in ['B', 'KB', 'MB', 'GB']:\n            if size < 1024:\n                return f\"{size:.2f} {unit}\"\n            size /= 1024\n        return f\"{size:.2f} TB\"\n    \n    # Format the DataFrame\n    display_df = pd.DataFrame({\n        'File Name': df['name'].apply(lambda x: x.split('/')[-1]),\n        'Size': df['size'].apply(format_size),\n        'Last Modified': pd.to_datetime(df['last_modified']).dt.strftime('%Y-%m-%d %H:%M:%S'),\n        'Actions': [''] * len(df)  # Placeholder for buttons\n    })\n    \n    # Display the table\n    for idx, row in display_df.iterrows():\n        with st.container():\n            cols = st.columns([3, 1, 2, 2])\n            cols[0].write(row['File Name'])\n            cols[1].write(row['Size'])\n            cols[2].write(row['Last Modified'])\n            \n            # Action buttons\n            button_cols = cols[3].columns(2)\n            with button_cols[0]:\n                if st.button(\"📥\", key=f\"get_{df['name'].iloc[idx]}\", help=\"Download file\"):\n                    try:\n                        result = session.sql(f\"GET @SHP_FILES/{df['name'].iloc[idx]}\").collect()\n                        st.download_button(\n                            label=\"Save File\",\n                            data=result[0]['FILE_URL'],\n                            file_name=df['name'].iloc[idx].split('/')[-1],\n                            mime=\"application/octet-stream\",\n                            key=f\"download_{df['name'].iloc[idx]}\"\n                        )\n                    except Exception as e:\n                        st.error(f\"Error getting file: {str(e)}\")\n            \n            with button_cols[1]:\n                if st.button(\"🗑️\", key=f\"delete_{df['name'].iloc[idx]}\", help=\"Delete file\"):\n                    try:\n                        session.sql(f\"REMOVE @SHP_FILES/{df['name'].iloc[idx]}\").collect()\n                        st.success(f\"Deleted {df['name'].iloc[idx]}\")\n                        st.rerun()\n                    except Exception as e:\n                        st.error(f\"Error deleting file: {str(e)}\")\n    \n    # Add a horizontal line after each file\n    st.markdown(\"---\")\nelse:\n    st.info(\"📂 No files in stage\")\n",
   "execution_count": null
  },
  {
   "cell_type": "code",
   "id": "fae5728b-a37d-44de-90bb-357cb936a77c",
   "metadata": {
    "language": "sql",
    "name": "cell2"
   },
   "outputs": [],
   "source": "list  @SHP_FILES;\n",
   "execution_count": null
  }
 ]
}